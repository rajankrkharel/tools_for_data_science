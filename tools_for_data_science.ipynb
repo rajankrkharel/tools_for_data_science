{
 "cells": [
  {
   "cell_type": "markdown",
   "metadata": {
    "collapsed": true
   },
   "source": [
    "# My Jupyter Notebook on IBM Watson Studio"
   ]
  },
  {
   "cell_type": "markdown",
   "metadata": {},
   "source": [
    "**Rajan Kharel**<br>\n",
    "Software Engineer    "
   ]
  },
  {
   "cell_type": "markdown",
   "metadata": {},
   "source": [
    "*I am interested in data science because I like exploring the data and find the meaning out of it.* "
   ]
  },
  {
   "cell_type": "markdown",
   "metadata": {},
   "source": [
    "### My age calculator"
   ]
  },
  {
   "cell_type": "code",
   "execution_count": 21,
   "metadata": {},
   "outputs": [
    {
     "name": "stdout",
     "output_type": "stream",
     "text": [
      "34\n"
     ]
    }
   ],
   "source": [
    "from datetime import datetime, date\n",
    "print(today.year - 1988)\n"
   ]
  },
  {
   "cell_type": "markdown",
   "metadata": {},
   "source": [
    "**More details about me:**\n",
    "\n",
    "The food I like:\n",
    "<ul style=\"list-style-type:disc;\">\n",
    "  <li>Coffee</li>\n",
    "  <li>Tea</li>\n",
    "  <li>Milk</li>\n",
    "</ul>\n",
    "\n",
    "My photo:\n",
    "<img src=\"https://media-exp1.licdn.com/dms/image/C5603AQEmcDO1BKSRFA/profile-displayphoto-shrink_800_800/0/1655758594650?e=1672876800&v=beta&t=uDVJLYrRdzX3b7uJYGNNeBKhCGXCdKqkqWr-LVH5YfM\" alt=\"alt text\" title=\"image Title\" width=\"150\"/>\n",
    "\n",
    "To view my linkedin profile <a href=\"https://www.linkedin.com/in/rajankrkharel/\">click</a> here.\n",
    "\n",
    "\n"
   ]
  },
  {
   "cell_type": "code",
   "execution_count": null,
   "metadata": {},
   "outputs": [],
   "source": []
  }
 ],
 "metadata": {
  "kernelspec": {
   "display_name": "Python 3.9",
   "language": "python",
   "name": "python3"
  },
  "language_info": {
   "codemirror_mode": {
    "name": "ipython",
    "version": 3
   },
   "file_extension": ".py",
   "mimetype": "text/x-python",
   "name": "python",
   "nbconvert_exporter": "python",
   "pygments_lexer": "ipython3",
   "version": "3.9.13"
  }
 },
 "nbformat": 4,
 "nbformat_minor": 1
}
